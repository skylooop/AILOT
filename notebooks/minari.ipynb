{
 "cells": [
  {
   "cell_type": "code",
   "execution_count": 1,
   "id": "d4221629-bbd0-49bc-a975-d0c1d9b08159",
   "metadata": {},
   "outputs": [
    {
     "name": "stderr",
     "output_type": "stream",
     "text": [
      "/home/m_bobrin/anaconda3/envs/flashrl/lib/python3.9/site-packages/glfw/__init__.py:916: GLFWError: (65544) b'X11: Failed to open display localhost:10.0'\n",
      "  warnings.warn(message, GLFWError)\n"
     ]
    }
   ],
   "source": [
    "import minari"
   ]
  },
  {
   "cell_type": "code",
   "execution_count": 7,
   "id": "61fca427-3389-42f0-b06f-987359d77b21",
   "metadata": {},
   "outputs": [],
   "source": [
    "dataset = minari.load_dataset('antmaze-large-diverse-v0')\n",
    "env  = dataset.recover_environment()"
   ]
  },
  {
   "cell_type": "code",
   "execution_count": 10,
   "id": "fc2aa815-cc38-462e-bdad-d104d9378905",
   "metadata": {},
   "outputs": [],
   "source": [
    "env = env.unwrapped"
   ]
  },
  {
   "cell_type": "code",
   "execution_count": null,
   "id": "c51f514e-1087-4571-b9fc-3703becc1241",
   "metadata": {},
   "outputs": [
    {
     "data": {
      "text/plain": [
       "<matplotlib.collections.PathCollection at 0x7fdafc650a00>"
      ]
     },
     "execution_count": 28,
     "metadata": {},
     "output_type": "execute_result"
    }
   ],
   "source": [
    "import matplotlib.pyplot as plt\n",
    "\n",
    "fig, ax = plt.subplots()\n",
    "xy = dataset.sample_episodes(1)[0].observations['achieved_goal']\n",
    "plt.scatter(xy[:, 0], xy[:, 1])"
   ]
  },
  {
   "cell_type": "code",
   "execution_count": null,
   "id": "42690ef8-52f5-4d2b-9048-337e692b6cf1",
   "metadata": {},
   "outputs": [],
   "source": []
  },
  {
   "cell_type": "code",
   "execution_count": null,
   "id": "4aad9c76-9ae6-40ad-8309-57bea5bc3834",
   "metadata": {},
   "outputs": [],
   "source": []
  }
 ],
 "metadata": {
  "kernelspec": {
   "display_name": "Python 3 (ipykernel)",
   "language": "python",
   "name": "python3"
  },
  "language_info": {
   "codemirror_mode": {
    "name": "ipython",
    "version": 3
   },
   "file_extension": ".py",
   "mimetype": "text/x-python",
   "name": "python",
   "nbconvert_exporter": "python",
   "pygments_lexer": "ipython3",
   "version": "3.9.18"
  }
 },
 "nbformat": 4,
 "nbformat_minor": 5
}
